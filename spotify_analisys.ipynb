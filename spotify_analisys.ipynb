{
 "cells": [
  {
   "cell_type": "code",
   "execution_count": null,
   "id": "initial_id",
   "metadata": {
    "is_executing": true
   },
   "outputs": [],
   "source": [
    "import requests as rq\n",
    "import spotipy as spot\n",
    "from spotipy.oauth2 import SpotifyOAuth\n",
    "import pandas as pd\n",
    "import time\n",
    "import matplotlib.pyplot as plt\n",
    "from IPython.display import Markdown as md"
   ]
  },
  {
   "cell_type": "code",
   "execution_count": null,
   "id": "1c1d78f9f500ef9d",
   "metadata": {
    "collapsed": false
   },
   "outputs": [],
   "source": [
    "SPOTIFY_CLIENT_ID = 'e81e503997aa4f318c13abbe6a7d623b'\n",
    "SPOTIFY_CLIENT_SECRET = '###' #censored for security\n",
    "SPOTIFY_REDIRECT_URI = 'http://127.0.0.1:9090'\n",
    "SCOPE ='user-top-read, user-read-private'"
   ]
  },
  {
   "cell_type": "code",
   "execution_count": null,
   "id": "ad3511679980fbfc",
   "metadata": {
    "collapsed": false
   },
   "outputs": [],
   "source": [
    "sp = spot.Spotify(auth_manager=SpotifyOAuth(client_id=SPOTIFY_CLIENT_ID,\n",
    "                                            client_secret=SPOTIFY_CLIENT_SECRET,\n",
    "                                            redirect_uri=SPOTIFY_REDIRECT_URI,\n",
    "                                            scope=SCOPE))"
   ]
  },
  {
   "cell_type": "code",
   "execution_count": null,
   "id": "aed3ae2460ff055d",
   "metadata": {
    "collapsed": false
   },
   "outputs": [],
   "source": [
    "top_tracks = sp.current_user_top_tracks(limit=25, offset=0, time_range='long_term')"
   ]
  },
  {
   "cell_type": "code",
   "execution_count": null,
   "id": "5bcf2f12455be2fe",
   "metadata": {
    "collapsed": false
   },
   "outputs": [],
   "source": [
    "def get_track_ids(time_frame, key_word):\n",
    "    track_ids = []\n",
    "    for song in time_frame[key_word]:\n",
    "        track_ids.append(song['id'])\n",
    "    return track_ids"
   ]
  },
  {
   "cell_type": "code",
   "execution_count": null,
   "id": "e6fe5c72e15bed4f",
   "metadata": {
    "collapsed": false
   },
   "outputs": [],
   "source": [
    "track_ids = get_track_ids(top_tracks, 'items')"
   ]
  },
  {
   "cell_type": "code",
   "execution_count": null,
   "id": "90788b3e775a3e07",
   "metadata": {
    "collapsed": false
   },
   "outputs": [],
   "source": [
    "def get_track_data(track_id):\n",
    "    meta = sp.track(track_id)\n",
    "    return [meta['name'],\n",
    "            meta['album']['name'],\n",
    "            meta['album']['artists'][0]['name'],\n",
    "            meta['album']['artists'][0]['id'],\n",
    "            meta['external_urls']['spotify'],\n",
    "            meta['album']['images'][0]['url']]"
   ]
  },
  {
   "cell_type": "code",
   "execution_count": null,
   "id": "cb609c0d3e980045",
   "metadata": {
    "collapsed": false
   },
   "outputs": [],
   "source": [
    "def get_track_features(track_id):\n",
    "    features = sp.audio_features(track_id)\n",
    "    return [features[0]['danceability'],\n",
    "            features[0]['energy'],\n",
    "            features[0]['key'],\n",
    "            features[0]['loudness'],\n",
    "            features[0]['tempo'],\n",
    "            features[0]['time_signature']]"
   ]
  },
  {
   "cell_type": "code",
   "execution_count": null,
   "id": "f739fe98620c4a9b",
   "metadata": {
    "collapsed": false
   },
   "outputs": [],
   "source": [
    "tracks = []\n",
    "for i in range(len(track_ids)):\n",
    "    time.sleep(.5)\n",
    "    tracks.append(get_track_data(track_ids[i])+get_track_features(track_ids[i]))"
   ]
  },
  {
   "cell_type": "code",
   "outputs": [],
   "source": [
    "df = pd.DataFrame(tracks, columns=['name', 'album', \n",
    "                                   'artist', 'artist_id', 'spotify_url', \n",
    "                                   'album_cover', 'danceability', \n",
    "                                   'energy', 'key',\n",
    "                                   'loudness', 'tempo',\n",
    "                                   'time_signature'])\n",
    "df.head(25)"
   ],
   "metadata": {
    "collapsed": false
   },
   "id": "177234910bcab118",
   "execution_count": null
  },
  {
   "cell_type": "code",
   "outputs": [],
   "source": [
    "_, ax = plt.subplots(1, 1)\n",
    "ax.hist(df['energy'], bins = 5, color = '#FF9300')\n",
    "ax.set_title(\"Energy Distribution\")\n",
    "\n",
    "ax.set_xlabel('energy')\n",
    "ax.set_ylabel('frequency')\n",
    "\n",
    "plt.show()"
   ],
   "metadata": {
    "collapsed": false
   },
   "id": "2134777454761731",
   "execution_count": null
  },
  {
   "cell_type": "code",
   "outputs": [],
   "source": [
    "_, ax = plt.subplots(1, 1)\n",
    "ax.hist(df['tempo'], bins = 5)\n",
    "ax.set_title(\"Tempo Distribution\")\n",
    "\n",
    "ax.set_xlabel('tempo')\n",
    "ax.set_ylabel('frequency')\n",
    "\n",
    "plt.show()"
   ],
   "metadata": {
    "collapsed": false
   },
   "id": "a06ca644be90d787",
   "execution_count": null
  },
  {
   "cell_type": "code",
   "execution_count": null,
   "id": "6e51a1111f5f226e",
   "metadata": {
    "collapsed": false
   },
   "outputs": [],
   "source": [
    "_, ax = plt.subplots(1, 1)\n",
    "ax.hist(df['key'], bins = [i for i in range(-1, 12)], color = '#FFEC50')\n",
    "ax.set_title(\"Key Distribution\")\n",
    "\n",
    "ax.set_xlabel('key')\n",
    "ax.set_ylabel('frequency')\n",
    "\n",
    "plt.show()"
   ]
  },
  {
   "cell_type": "code",
   "execution_count": null,
   "id": "ce92a0926e825df2",
   "metadata": {
    "collapsed": false
   },
   "outputs": [],
   "source": [
    "top_album = df.loc[df['album'] == df['album'].mode()[0]]\n",
    "top_album.reset_index(inplace=True)\n",
    "top_album_info = {'name': top_album['album'][0],\n",
    "                  'artist': top_album['artist'][0],\n",
    "                  'cover': top_album['album_cover'][0]}"
   ]
  },
  {
   "cell_type": "code",
   "outputs": [],
   "source": [
    "top_img = rq.get(top_album_info['cover']).content\n",
    "with open('top_album_cover.jpg', 'wb') as handler:\n",
    "    handler.write(top_img)"
   ],
   "metadata": {
    "collapsed": false
   },
   "id": "62a67a9934c05e29",
   "execution_count": null
  },
  {
   "cell_type": "code",
   "execution_count": null,
   "id": "d6ea7fa8b03e09c8",
   "metadata": {
    "collapsed": false
   },
   "outputs": [],
   "source": [
    "md(f\"My top album is *{top_album_info['name']}* by *{top_album_info['artist']}*\")"
   ]
  },
  {
   "cell_type": "markdown",
   "id": "8464c41d92795d83",
   "metadata": {
    "collapsed": false
   },
   "source": [
    "![top album cover](top_album_cover.jpg)"
   ]
  },
  {
   "cell_type": "code",
   "execution_count": null,
   "id": "b50e398ce75ddc15",
   "metadata": {
    "collapsed": false
   },
   "outputs": [],
   "source": [
    "top_artist = df.loc[df['artist'] == df['artist'].mode()[0]]\n",
    "top_artist.reset_index(inplace=True)\n",
    "top_artist_id = top_artist['artist_id'][0]"
   ]
  },
  {
   "cell_type": "code",
   "execution_count": null,
   "id": "a5d398ce890622cc",
   "metadata": {
    "collapsed": false
   },
   "outputs": [],
   "source": [
    "def get_artist_info(artist_id):\n",
    "    artist_info = sp.artist(artist_id)\n",
    "    return {'name': artist_info['name'],\n",
    "            'popularity': artist_info['popularity'],\n",
    "            'followers': artist_info['followers']['total'],\n",
    "            'image': artist_info['images'][0]['url']}"
   ]
  },
  {
   "cell_type": "code",
   "outputs": [],
   "source": [
    "top_artist_info = get_artist_info(top_artist_id)"
   ],
   "metadata": {
    "collapsed": false
   },
   "id": "45700bf89c062cce",
   "execution_count": null
  },
  {
   "cell_type": "code",
   "outputs": [],
   "source": [
    "top_img = rq.get(top_artist_info['image']).content\n",
    "with open('top_artist_photo.jpg', 'wb') as handler:\n",
    "    handler.write(top_img)"
   ],
   "metadata": {
    "collapsed": false
   },
   "id": "d503e53699095a0f",
   "execution_count": null
  },
  {
   "cell_type": "code",
   "outputs": [],
   "source": [
    "md(f\"My top artist is *{top_artist_info['name']}*\\nPopularity: *{ top_artist_info['popularity']}*\\nFollowers: *{top_artist_info['followers']}*\")"
   ],
   "metadata": {
    "collapsed": false
   },
   "id": "c9eff1e69c68ea21",
   "execution_count": null
  },
  {
   "cell_type": "markdown",
   "source": [
    "![Top artist photo](top_artist_photo.jpg)"
   ],
   "metadata": {
    "collapsed": false
   },
   "id": "aced5bfcb926f4d8"
  },
  {
   "cell_type": "code",
   "outputs": [],
   "source": [
    "min_energy = df['energy'][:5].min()\n",
    "max_energy = df['energy'][:5].max()\n",
    "\n",
    "max_loudness = df['loudness'][:5].min()\n",
    "min_loudness = df['loudness'][:5].max()"
   ],
   "metadata": {
    "collapsed": false
   },
   "id": "a5db470aeed684bc",
   "execution_count": null
  },
  {
   "cell_type": "code",
   "outputs": [],
   "source": [
    "me = sp.me()\n",
    "my_photo = me['images'][0]['url']\n",
    "my_country = me['country']\n",
    "my_name = me['display_name']"
   ],
   "metadata": {
    "collapsed": false
   },
   "id": "41ae2927d739e3d5",
   "execution_count": null
  },
  {
   "cell_type": "code",
   "outputs": [],
   "source": [
    "try:\n",
    "    rec = sp.recommendations(seed_tracks=track_ids[:5], limit=25, min_energy=min_energy, max_energy=max_energy)\n",
    "except Exception as e:\n",
    "    # Catch any other exception\n",
    "    print(\"An error occurred:\", e)"
   ],
   "metadata": {
    "collapsed": false
   },
   "id": "976fcf328a20cba7",
   "execution_count": null
  },
  {
   "cell_type": "code",
   "outputs": [],
   "source": [
    "recommended_ids = get_track_ids(rec, 'tracks')"
   ],
   "metadata": {
    "collapsed": false
   },
   "id": "29756bbaa479420f",
   "execution_count": null
  },
  {
   "cell_type": "code",
   "outputs": [],
   "source": [
    "rec_tracks = []\n",
    "for i in range(len(recommended_ids)):\n",
    "    time.sleep(.5)\n",
    "    rec_tracks.append(get_track_data(recommended_ids[i])+get_track_features(recommended_ids[i]))"
   ],
   "metadata": {
    "collapsed": false
   },
   "id": "8acc809663f5e9be",
   "execution_count": null
  },
  {
   "cell_type": "code",
   "outputs": [],
   "source": [
    "rec_df = pd.DataFrame(rec_tracks, columns=['name', 'album',\n",
    "                                   'artist', 'artist_id', 'spotify_url',\n",
    "                                   'album_cover', 'danceability',\n",
    "                                   'energy', 'key',\n",
    "                                   'loudness', 'tempo',\n",
    "                                   'time_signature'])\n",
    "rec_df.head(25)"
   ],
   "metadata": {
    "collapsed": false
   },
   "id": "acc02cdd3c8f5ed1",
   "execution_count": null
  },
  {
   "cell_type": "code",
   "outputs": [],
   "source": [
    "_, ax = plt.subplots(1, 1)\n",
    "ax.hist(rec_df['energy'][:5], bins = 5, color = '#FF9300')\n",
    "ax.set_title(\"Recommended Energy Distribution\")\n",
    "\n",
    "ax.set_xlabel('energy')\n",
    "ax.set_ylabel('frequency')\n",
    "\n",
    "plt.show()"
   ],
   "metadata": {
    "collapsed": false
   },
   "id": "4a8aae20f907c31b",
   "execution_count": null
  },
  {
   "cell_type": "code",
   "outputs": [],
   "source": [
    "_, ax = plt.subplots(1, 1)\n",
    "ax.hist(rec_df['tempo'], bins = 5)\n",
    "ax.set_title(\"Tempo Distribution\")\n",
    "\n",
    "ax.set_xlabel('tempo')\n",
    "ax.set_ylabel('frequency')\n",
    "\n",
    "plt.show()"
   ],
   "metadata": {
    "collapsed": false
   },
   "id": "7bcc30e52343afa",
   "execution_count": null
  },
  {
   "cell_type": "code",
   "outputs": [],
   "source": [
    "_, ax = plt.subplots(1, 1)\n",
    "ax.hist(rec_df['key'], bins = [i for i in range(-1, 12)], color = '#FFEC50')\n",
    "ax.set_title(\"Key Distribution\")\n",
    "\n",
    "ax.set_xlabel('key')\n",
    "ax.set_ylabel('frequency')\n",
    "\n",
    "plt.show()"
   ],
   "metadata": {
    "collapsed": false
   },
   "id": "3b9cd8357264fbf9",
   "execution_count": null
  },
  {
   "cell_type": "code",
   "outputs": [],
   "source": [
    "_, ax = plt.subplots(1, 1)\n",
    "\n",
    "ax.hist(df['energy'][:5], bins = 5, alpha=0.5, label='top 5 songs')\n",
    "ax.hist(rec_df['energy'][:5], bins = 5, alpha=0.5, label='top 5 recommended')\n",
    "ax.legend(loc='upper right')\n",
    "ax.set_xlabel('energy')\n",
    "ax.set_ylabel('num')\n",
    "\n",
    "plt.show()"
   ],
   "metadata": {
    "collapsed": false
   },
   "id": "8b9b8c92dcc1acdc",
   "execution_count": null
  }
 ],
 "metadata": {
  "kernelspec": {
   "display_name": "Python 3 (ipykernel)",
   "language": "python",
   "name": "python3"
  },
  "language_info": {
   "codemirror_mode": {
    "name": "ipython",
    "version": 3
   },
   "file_extension": ".py",
   "mimetype": "text/x-python",
   "name": "python",
   "nbconvert_exporter": "python",
   "pygments_lexer": "ipython3",
   "version": "3.9.13"
  }
 },
 "nbformat": 4,
 "nbformat_minor": 5
}
