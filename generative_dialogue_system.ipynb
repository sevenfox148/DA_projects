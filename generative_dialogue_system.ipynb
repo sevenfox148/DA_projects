{
 "cells": [
  {
   "cell_type": "markdown",
   "id": "20798f69ee0302bc",
   "metadata": {
    "collapsed": false
   },
   "source": [
    "**Мета роботи**: Ознайомитись з використанням перетворювачів у spaCy, а також інших попередньо навчених перетворювачів. Застосувати перетворювачі для генерації діалогів.\n",
    "Створити програму, що налаштовує попередньо навчені перетворювачі та використовує їх для генерації діалогів"
   ]
  },
  {
   "cell_type": "code",
   "execution_count": 1,
   "id": "initial_id",
   "metadata": {
    "ExecuteTime": {
     "end_time": "2025-07-15T14:49:30.027549600Z",
     "start_time": "2025-07-15T14:49:30.016545800Z"
    },
    "collapsed": true
   },
   "outputs": [],
   "source": [
    "import warnings\n",
    "warnings.filterwarnings('ignore')"
   ]
  },
  {
   "cell_type": "code",
   "execution_count": 2,
   "id": "16e4904571996147",
   "metadata": {
    "ExecuteTime": {
     "end_time": "2025-07-15T14:49:38.738958200Z",
     "start_time": "2025-07-15T14:49:30.750369300Z"
    },
    "collapsed": false
   },
   "outputs": [],
   "source": [
    "import json\n",
    "import random\n",
    "\n",
    "from torch.utils.data import DataLoader, TensorDataset\n",
    "from transformers import BartTokenizer, BartForConditionalGeneration\n",
    "import torch\n",
    "\n",
    "from sklearn.model_selection import train_test_split\n",
    "from tqdm import tqdm\n",
    "import matplotlib.pyplot as plt"
   ]
  },
  {
   "cell_type": "code",
   "execution_count": 3,
   "id": "7d53304da899f27a",
   "metadata": {
    "ExecuteTime": {
     "end_time": "2025-07-15T14:50:09.786395300Z",
     "start_time": "2025-07-15T14:50:08.227419200Z"
    },
    "collapsed": false
   },
   "outputs": [],
   "source": [
    "model_name = \"facebook/bart-base\"\n",
    "tokenizer = BartTokenizer.from_pretrained(model_name)\n",
    "model = BartForConditionalGeneration.from_pretrained(model_name)"
   ]
  },
  {
   "cell_type": "markdown",
   "id": "bc25ab1f986eb8c9",
   "metadata": {
    "collapsed": false
   },
   "source": [
    "Створення навчальних даних"
   ]
  },
  {
   "cell_type": "code",
   "execution_count": 4,
   "id": "35c40903fa2435bc",
   "metadata": {
    "ExecuteTime": {
     "end_time": "2025-07-15T14:50:10.931817200Z",
     "start_time": "2025-07-15T14:50:10.892165700Z"
    },
    "collapsed": false
   },
   "outputs": [],
   "source": [
    "filename = r'C:\\Users\\5500\\DataspellProjects\\UniProjects\\data\\hotels.json'\n",
    "with open(filename, \"r\", encoding=\"utf-8\") as f:\n",
    "    raw_data = json.load(f)\n",
    "\n",
    "data = []\n",
    "\n",
    "for dialog in raw_data:\n",
    "    turns = dialog[\"turns\"]\n",
    "    for i in range(len(turns) - 1):\n",
    "        user_turn = turns[i]\n",
    "        system_turn = turns[i + 1]\n",
    "\n",
    "        if user_turn[\"speaker\"] == \"USER\" and system_turn[\"speaker\"] == \"SYSTEM\":\n",
    "            data.append((user_turn[\"utterance\"], system_turn[\"utterance\"]))\n",
    "\n",
    "data = [pair for pair in data if  len(pair)==2]"
   ]
  },
  {
   "cell_type": "code",
   "execution_count": 5,
   "id": "b00dd5b717093831",
   "metadata": {
    "ExecuteTime": {
     "end_time": "2025-07-15T14:50:11.605275900Z",
     "start_time": "2025-07-15T14:50:11.580186800Z"
    },
    "collapsed": false
   },
   "outputs": [],
   "source": [
    "train_data, test_data = train_test_split(data, test_size=0.25, random_state=42)"
   ]
  },
  {
   "cell_type": "code",
   "execution_count": 6,
   "id": "b60886078d4c4109",
   "metadata": {
    "ExecuteTime": {
     "end_time": "2025-07-15T14:50:12.182251800Z",
     "start_time": "2025-07-15T14:50:12.155659300Z"
    },
    "collapsed": false
   },
   "outputs": [
    {
     "data": {
      "text/plain": [
       "[(\"I'm searching for a hotel in NYC, and I'd like to reserve a room at Rodeway Inn Bronx Zoo.\",\n",
       "  'How long is the booking for?'),\n",
       " ('Thanks.', 'Do you need help with anything else?'),\n",
       " ('Could you tell me the phone number?',\n",
       "  'The telephone number is +1 416-663-9500.')]"
      ]
     },
     "execution_count": 6,
     "metadata": {},
     "output_type": "execute_result"
    }
   ],
   "source": [
    "train_data[:3]"
   ]
  },
  {
   "cell_type": "markdown",
   "id": "2dcff87b1e8749b2",
   "metadata": {
    "collapsed": false
   },
   "source": [
    "Токенізація і перетворення у тензори"
   ]
  },
  {
   "cell_type": "code",
   "execution_count": 7,
   "id": "2b919f86d6844418",
   "metadata": {
    "ExecuteTime": {
     "end_time": "2025-07-15T14:50:14.298469700Z",
     "start_time": "2025-07-15T14:50:13.480025800Z"
    },
    "collapsed": false
   },
   "outputs": [],
   "source": [
    "input_ids = []\n",
    "attention_masks = []\n",
    "labels = []\n",
    "\n",
    "for user_input, system_response in train_data:\n",
    "    encoded_input = tokenizer(user_input, return_tensors=\"pt\", padding=\"max_length\", truncation=True, max_length=64)\n",
    "    encoded_output = tokenizer(system_response, return_tensors=\"pt\", padding=\"max_length\", truncation=True, max_length=64)\n",
    "\n",
    "    input_ids.append(encoded_input[\"input_ids\"].squeeze())\n",
    "    attention_masks.append(encoded_input[\"attention_mask\"].squeeze())\n",
    "    labels.append(encoded_output[\"input_ids\"].squeeze())\n",
    "\n",
    "input_ids = torch.stack(input_ids)\n",
    "attention_masks = torch.stack(attention_masks)\n",
    "labels = torch.stack(labels)\n"
   ]
  },
  {
   "cell_type": "markdown",
   "id": "2dfcd3f79aa3a603",
   "metadata": {
    "collapsed": false
   },
   "source": [
    "Оптимізатор і функція втрат"
   ]
  },
  {
   "cell_type": "code",
   "execution_count": 8,
   "id": "5e622db24866144c",
   "metadata": {
    "ExecuteTime": {
     "end_time": "2025-07-15T14:50:15.693771800Z",
     "start_time": "2025-07-15T14:50:15.667983100Z"
    },
    "collapsed": false
   },
   "outputs": [],
   "source": [
    "optimizer = torch.optim.AdamW(model.parameters(), lr=5e-5)\n",
    "loss_fn = torch.nn.CrossEntropyLoss(ignore_index=tokenizer.pad_token_id)"
   ]
  },
  {
   "cell_type": "markdown",
   "id": "6cc4ab1b7b499e4e",
   "metadata": {
    "collapsed": false
   },
   "source": [
    "Формування датасету та батчів"
   ]
  },
  {
   "cell_type": "code",
   "execution_count": 9,
   "id": "a67e018b7dc6a7e2",
   "metadata": {
    "ExecuteTime": {
     "end_time": "2025-07-15T14:50:16.638158600Z",
     "start_time": "2025-07-15T14:50:16.614559200Z"
    },
    "collapsed": false
   },
   "outputs": [],
   "source": [
    "dataset = TensorDataset(input_ids, attention_masks, labels)\n",
    "\n",
    "batch_size = 8\n",
    "dataloader = DataLoader(dataset, batch_size=batch_size, shuffle=True)"
   ]
  },
  {
   "cell_type": "markdown",
   "id": "a94bb825fd415655",
   "metadata": {
    "collapsed": false
   },
   "source": [
    "Тренування моделі"
   ]
  },
  {
   "cell_type": "code",
   "execution_count": 10,
   "id": "68055640efd3c834",
   "metadata": {
    "ExecuteTime": {
     "end_time": "2025-07-15T16:01:45.731650700Z",
     "start_time": "2025-07-15T14:50:44.225785700Z"
    },
    "collapsed": false
   },
   "outputs": [
    {
     "name": "stderr",
     "output_type": "stream",
     "text": [
      "Навчання: 100%|██████████| 970/970 [1:11:01<00:00,  4.39s/it]\n"
     ]
    }
   ],
   "source": [
    "loss_history = []\n",
    "epochs = 10\n",
    "total_frames = len(dataloader) * epochs\n",
    "model.train()\n",
    "with tqdm(total=total_frames, desc=\"Навчання\") as pbar:\n",
    "\n",
    "    for epoch in range(epochs):\n",
    "        total_loss = 0\n",
    "        for batch in dataloader:\n",
    "            b_input_ids, b_attention_mask, b_labels = batch\n",
    "    \n",
    "            outputs = model(input_ids=b_input_ids,\n",
    "                            attention_mask=b_attention_mask,\n",
    "                            labels=b_labels)\n",
    "    \n",
    "            loss = outputs.loss\n",
    "            total_loss += loss.item()\n",
    "    \n",
    "            optimizer.zero_grad()\n",
    "            loss.backward()\n",
    "            optimizer.step()\n",
    "            pbar.update(1)\n",
    "\n",
    "        loss_history.append(total_loss)\n"
   ]
  },
  {
   "cell_type": "code",
   "execution_count": 11,
   "id": "8e500069eb30ce51",
   "metadata": {
    "ExecuteTime": {
     "end_time": "2025-07-15T16:01:51.696375300Z",
     "start_time": "2025-07-15T16:01:51.528334300Z"
    },
    "collapsed": false
   },
   "outputs": [
    {
     "data": {
      "image/png": "[encoded data removed]",
      "text/plain": [
       "<Figure size 640x480 with 1 Axes>"
      ]
     },
     "metadata": {},
     "output_type": "display_data"
    }
   ],
   "source": [
    "plt.plot(loss_history)\n",
    "plt.title(\"Історія втрат\")\n",
    "plt.show()"
   ]
  },
  {
   "cell_type": "markdown",
   "id": "856778f08dfb7d23",
   "metadata": {
    "collapsed": false
   },
   "source": [
    "Демонстрація роботи на випадковій фразі з тестувального набору"
   ]
  },
  {
   "cell_type": "code",
   "execution_count": 13,
   "id": "7c11a8cc670e703b",
   "metadata": {
    "ExecuteTime": {
     "end_time": "2025-07-15T16:02:02.402004800Z",
     "start_time": "2025-07-15T16:02:00.767290100Z"
    },
    "collapsed": false
   },
   "outputs": [
    {
     "name": "stdout",
     "output_type": "stream",
     "text": [
      "Request: That's perfect.\n",
      "Response: Would you like to make a reservation?\n",
      "Generated response: Would you like me to reserve a room for you?\n"
     ]
    }
   ],
   "source": [
    "def generate_response(input_text):\n",
    "    model.eval()\n",
    "    encoded_input = tokenizer(input_text, return_tensors=\"pt\", truncation=True, max_length=64)\n",
    "    output = model.generate(\n",
    "        input_ids=encoded_input[\"input_ids\"],\n",
    "        attention_mask=encoded_input[\"attention_mask\"],\n",
    "        max_length=50,\n",
    "        num_beams=5,\n",
    "        early_stopping=True\n",
    "    )\n",
    "    return tokenizer.decode(output[0], skip_special_tokens=True)\n",
    "\n",
    "example = random.choice(test_data)\n",
    "print(f\"Request: {example[0]}\")\n",
    "print(f\"Response: {example[1]}\")\n",
    "print(f\"Generated response: {generate_response(example[0])}\")\n"
   ]
  },
  {
   "cell_type": "code",
   "execution_count": null,
   "id": "4801c4fd885aed45",
   "metadata": {
    "collapsed": false
   },
   "outputs": [],
   "source": []
  }
 ],
 "metadata": {
  "kernelspec": {
   "display_name": "Python 3",
   "language": "python",
   "name": "python3"
  },
  "language_info": {
   "codemirror_mode": {
    "name": "ipython",
    "version": 2
   },
   "file_extension": ".py",
   "mimetype": "text/x-python",
   "name": "python",
   "nbconvert_exporter": "python",
   "pygments_lexer": "ipython2",
   "version": "2.7.6"
  }
 },
 "nbformat": 4,
 "nbformat_minor": 5
}
