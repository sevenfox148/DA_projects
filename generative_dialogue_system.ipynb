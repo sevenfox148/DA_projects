{
 "cells": [
  {
   "cell_type": "markdown",
   "source": [
    "**Мета роботи**: Ознайомитись з використанням перетворювачів у spaCy, а також інших попередньо навчених перетворювачів. Застосувати перетворювачі для генерації діалогів.\n",
    "Створити програму, що налаштовує попередньо навчені перетворювачі та використовує їх для генерації діалогів"
   ],
   "metadata": {
    "collapsed": false
   },
   "id": "20798f69ee0302bc"
  },
  {
   "cell_type": "code",
   "execution_count": null,
   "id": "initial_id",
   "metadata": {
    "collapsed": true,
    "is_executing": true
   },
   "outputs": [],
   "source": [
    "import warnings\n",
    "warnings.filterwarnings('ignore')"
   ]
  },
  {
   "cell_type": "code",
   "outputs": [],
   "source": [
    "import json\n",
    "import random\n",
    "\n",
    "from torch.utils.data import DataLoader, TensorDataset\n",
    "from transformers import BartTokenizer, BartForConditionalGeneration\n",
    "import torch\n",
    "\n",
    "from sklearn.model_selection import train_test_split"
   ],
   "metadata": {
    "collapsed": false,
    "ExecuteTime": {
     "end_time": "2025-05-14T15:12:43.258029900Z",
     "start_time": "2025-05-14T15:12:43.249739600Z"
    }
   },
   "id": "16e4904571996147",
   "execution_count": 34
  },
  {
   "cell_type": "code",
   "outputs": [
    {
     "data": {
      "text/plain": "vocab.json:   0%|          | 0.00/899k [00:00<?, ?B/s]",
      "application/vnd.jupyter.widget-view+json": {
       "version_major": 2,
       "version_minor": 0,
       "model_id": "895cf2c589744c388e0343b7aa0d25b7"
      }
     },
     "metadata": {},
     "output_type": "display_data"
    },
    {
     "data": {
      "text/plain": "merges.txt:   0%|          | 0.00/456k [00:00<?, ?B/s]",
      "application/vnd.jupyter.widget-view+json": {
       "version_major": 2,
       "version_minor": 0,
       "model_id": "2030c7ad25ce4a4789e0e51dd2ac619c"
      }
     },
     "metadata": {},
     "output_type": "display_data"
    },
    {
     "data": {
      "text/plain": "tokenizer.json:   0%|          | 0.00/1.36M [00:00<?, ?B/s]",
      "application/vnd.jupyter.widget-view+json": {
       "version_major": 2,
       "version_minor": 0,
       "model_id": "8a19ce216bfa479ab4139b47746cff05"
      }
     },
     "metadata": {},
     "output_type": "display_data"
    },
    {
     "data": {
      "text/plain": "config.json:   0%|          | 0.00/1.72k [00:00<?, ?B/s]",
      "application/vnd.jupyter.widget-view+json": {
       "version_major": 2,
       "version_minor": 0,
       "model_id": "35854c10e55d4aa0a32a78e780dd9c83"
      }
     },
     "metadata": {},
     "output_type": "display_data"
    },
    {
     "data": {
      "text/plain": "model.safetensors:   0%|          | 0.00/558M [00:00<?, ?B/s]",
      "application/vnd.jupyter.widget-view+json": {
       "version_major": 2,
       "version_minor": 0,
       "model_id": "5620aab0a35c443ab8fb1537daccdabc"
      }
     },
     "metadata": {},
     "output_type": "display_data"
    }
   ],
   "source": [
    "model_name = \"facebook/bart-base\"\n",
    "tokenizer = BartTokenizer.from_pretrained(model_name)\n",
    "model = BartForConditionalGeneration.from_pretrained(model_name)"
   ],
   "metadata": {
    "collapsed": false,
    "ExecuteTime": {
     "end_time": "2025-05-14T13:12:15.976631200Z",
     "start_time": "2025-05-14T13:11:37.615305800Z"
    }
   },
   "id": "7d53304da899f27a",
   "execution_count": 3
  },
  {
   "cell_type": "markdown",
   "source": [
    "Створення навчальних даних"
   ],
   "metadata": {
    "collapsed": false
   },
   "id": "bc25ab1f986eb8c9"
  },
  {
   "cell_type": "code",
   "outputs": [],
   "source": [
    "filename = r'C:\\Users\\5500\\DataspellProjects\\UniProjects\\data\\hotels.json'\n",
    "with open(filename, \"r\", encoding=\"utf-8\") as f:\n",
    "    raw_data = json.load(f)\n",
    "\n",
    "data = []\n",
    "\n",
    "for dialog in raw_data:\n",
    "    turns = dialog[\"turns\"]\n",
    "    for i in range(len(turns) - 1):\n",
    "        user_turn = turns[i]\n",
    "        system_turn = turns[i + 1]\n",
    "\n",
    "        if user_turn[\"speaker\"] == \"USER\" and system_turn[\"speaker\"] == \"SYSTEM\":\n",
    "            data.append((user_turn[\"utterance\"], system_turn[\"utterance\"]))\n",
    "\n",
    "data = [pair for pair in data if  len(pair)==2]"
   ],
   "metadata": {
    "collapsed": false,
    "ExecuteTime": {
     "end_time": "2025-05-14T13:52:17.069649200Z",
     "start_time": "2025-05-14T13:52:17.029155700Z"
    }
   },
   "id": "35c40903fa2435bc",
   "execution_count": 23
  },
  {
   "cell_type": "code",
   "outputs": [],
   "source": [
    "train_data, test_data = train_test_split(data, test_size=0.25, random_state=42)"
   ],
   "metadata": {
    "collapsed": false,
    "ExecuteTime": {
     "end_time": "2025-05-14T13:52:17.791561900Z",
     "start_time": "2025-05-14T13:52:17.777345700Z"
    }
   },
   "id": "b00dd5b717093831",
   "execution_count": 24
  },
  {
   "cell_type": "code",
   "outputs": [
    {
     "data": {
      "text/plain": "[(\"I'm searching for a hotel in NYC, and I'd like to reserve a room at Rodeway Inn Bronx Zoo.\",\n  'How long is the booking for?'),\n ('Thanks.', 'Do you need help with anything else?'),\n ('Could you tell me the phone number?',\n  'The telephone number is +1 416-663-9500.')]"
     },
     "execution_count": 38,
     "metadata": {},
     "output_type": "execute_result"
    }
   ],
   "source": [
    "train_data[:3]"
   ],
   "metadata": {
    "collapsed": false,
    "ExecuteTime": {
     "end_time": "2025-05-14T15:35:02.695805300Z",
     "start_time": "2025-05-14T15:35:02.650021800Z"
    }
   },
   "id": "b60886078d4c4109",
   "execution_count": 38
  },
  {
   "cell_type": "markdown",
   "source": [
    "Токенізація і перетворення у тензори"
   ],
   "metadata": {
    "collapsed": false
   },
   "id": "2dcff87b1e8749b2"
  },
  {
   "cell_type": "code",
   "outputs": [],
   "source": [
    "input_ids = []\n",
    "attention_masks = []\n",
    "labels = []\n",
    "\n",
    "for user_input, system_response in train_data:\n",
    "    encoded_input = tokenizer(user_input, return_tensors=\"pt\", padding=\"max_length\", truncation=True, max_length=64)\n",
    "    encoded_output = tokenizer(system_response, return_tensors=\"pt\", padding=\"max_length\", truncation=True, max_length=64)\n",
    "\n",
    "    input_ids.append(encoded_input[\"input_ids\"].squeeze())\n",
    "    attention_masks.append(encoded_input[\"attention_mask\"].squeeze())\n",
    "    labels.append(encoded_output[\"input_ids\"].squeeze())\n",
    "\n",
    "input_ids = torch.stack(input_ids)\n",
    "attention_masks = torch.stack(attention_masks)\n",
    "labels = torch.stack(labels)\n"
   ],
   "metadata": {
    "collapsed": false,
    "ExecuteTime": {
     "end_time": "2025-05-14T13:52:27.613207Z",
     "start_time": "2025-05-14T13:52:27.356827Z"
    }
   },
   "id": "2b919f86d6844418",
   "execution_count": 26
  },
  {
   "cell_type": "markdown",
   "source": [
    "Оптимізатор і функція втрат"
   ],
   "metadata": {
    "collapsed": false
   },
   "id": "2dfcd3f79aa3a603"
  },
  {
   "cell_type": "code",
   "outputs": [],
   "source": [
    "optimizer = torch.optim.AdamW(model.parameters(), lr=5e-5)\n",
    "loss_fn = torch.nn.CrossEntropyLoss(ignore_index=tokenizer.pad_token_id)"
   ],
   "metadata": {
    "collapsed": false,
    "ExecuteTime": {
     "end_time": "2025-05-14T13:52:28.338910400Z",
     "start_time": "2025-05-14T13:52:28.309014300Z"
    }
   },
   "id": "5e622db24866144c",
   "execution_count": 27
  },
  {
   "cell_type": "markdown",
   "source": [
    "Формування датасету та батчів"
   ],
   "metadata": {
    "collapsed": false
   },
   "id": "6cc4ab1b7b499e4e"
  },
  {
   "cell_type": "code",
   "outputs": [],
   "source": [
    "dataset = TensorDataset(input_ids, attention_masks, labels)\n",
    "\n",
    "batch_size = 8\n",
    "dataloader = DataLoader(dataset, batch_size=batch_size, shuffle=True)"
   ],
   "metadata": {
    "collapsed": false,
    "ExecuteTime": {
     "end_time": "2025-05-14T14:09:12.600023300Z",
     "start_time": "2025-05-14T14:09:12.584369Z"
    }
   },
   "id": "a67e018b7dc6a7e2",
   "execution_count": 30
  },
  {
   "cell_type": "markdown",
   "source": [
    "Тренування моделі"
   ],
   "metadata": {
    "collapsed": false
   },
   "id": "a94bb825fd415655"
  },
  {
   "cell_type": "code",
   "outputs": [
    {
     "name": "stdout",
     "output_type": "stream",
     "text": [
      "Epoch 1 Loss: 42.6080\n",
      "Epoch 2 Loss: 37.9207\n",
      "Epoch 3 Loss: 35.7519\n",
      "Epoch 4 Loss: 33.1226\n",
      "Epoch 5 Loss: 32.7188\n",
      "Epoch 6 Loss: 32.3723\n",
      "Epoch 7 Loss: 28.0397\n",
      "Epoch 8 Loss: 25.7373\n",
      "Epoch 9 Loss: 23.5766\n",
      "Epoch 10 Loss: 21.6203\n"
     ]
    }
   ],
   "source": [
    "model.train()\n",
    "for epoch in range(10):\n",
    "    total_loss = 0\n",
    "    for batch in dataloader:\n",
    "        b_input_ids, b_attention_mask, b_labels = batch\n",
    "\n",
    "        outputs = model(input_ids=b_input_ids,\n",
    "                        attention_mask=b_attention_mask,\n",
    "                        labels=b_labels)\n",
    "\n",
    "        loss = outputs.loss\n",
    "        total_loss += loss.item()\n",
    "\n",
    "        optimizer.zero_grad()\n",
    "        loss.backward()\n",
    "        optimizer.step()\n",
    "\n",
    "    print(f\"Epoch {epoch + 1} Loss: {total_loss:.4f}\")\n"
   ],
   "metadata": {
    "collapsed": false,
    "ExecuteTime": {
     "end_time": "2025-05-14T14:56:39.929416900Z",
     "start_time": "2025-05-14T14:09:16.439639800Z"
    }
   },
   "id": "68055640efd3c834",
   "execution_count": 31
  },
  {
   "cell_type": "markdown",
   "source": [
    "Демонстрація роботи на випадковій фразі з тестувального набору"
   ],
   "metadata": {
    "collapsed": false
   },
   "id": "856778f08dfb7d23"
  },
  {
   "cell_type": "code",
   "outputs": [
    {
     "name": "stdout",
     "output_type": "stream",
     "text": [
      "Request: I need 1 room at the Hanover Hotel Victoria. I'll arrive on the 5th of March\n",
      "Response: Please confirm the details for your stay in London: 1 room at the Hanover Hotel Victoria for 3 days, arriving next Tuesday.\n",
      "Generated response: Please confirm: You'd like 1 room at the Hanover Hotel Victoria in Victoria for the day after tomorrow, and you'll be leaving on March 13th.\n"
     ]
    }
   ],
   "source": [
    "def generate_response(input_text):\n",
    "    model.eval()\n",
    "    encoded_input = tokenizer(input_text, return_tensors=\"pt\", truncation=True, max_length=64)\n",
    "    output = model.generate(\n",
    "        input_ids=encoded_input[\"input_ids\"],\n",
    "        attention_mask=encoded_input[\"attention_mask\"],\n",
    "        max_length=50,\n",
    "        num_beams=5,\n",
    "        early_stopping=True\n",
    "    )\n",
    "    return tokenizer.decode(output[0], skip_special_tokens=True)\n",
    "\n",
    "example = random.choice(test_data)\n",
    "print(f\"Request: {example[0]}\")\n",
    "print(f\"Response: {example[1]}\")\n",
    "print(f\"Generated response: {generate_response(example[0])}\")\n"
   ],
   "metadata": {
    "collapsed": false,
    "ExecuteTime": {
     "end_time": "2025-05-14T15:13:15.947905900Z",
     "start_time": "2025-05-14T15:13:13.703319600Z"
    }
   },
   "id": "7c11a8cc670e703b",
   "execution_count": 37
  },
  {
   "cell_type": "code",
   "outputs": [],
   "source": [],
   "metadata": {
    "collapsed": false
   },
   "id": "4801c4fd885aed45"
  }
 ],
 "metadata": {
  "kernelspec": {
   "display_name": "Python 3",
   "language": "python",
   "name": "python3"
  },
  "language_info": {
   "codemirror_mode": {
    "name": "ipython",
    "version": 2
   },
   "file_extension": ".py",
   "mimetype": "text/x-python",
   "name": "python",
   "nbconvert_exporter": "python",
   "pygments_lexer": "ipython2",
   "version": "2.7.6"
  }
 },
 "nbformat": 4,
 "nbformat_minor": 5
}
